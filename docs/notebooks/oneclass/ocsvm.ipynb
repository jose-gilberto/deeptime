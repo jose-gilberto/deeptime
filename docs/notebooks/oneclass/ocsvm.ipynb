{
 "cells": [
  {
   "cell_type": "code",
   "execution_count": 1,
   "id": "8799cf65-2200-45c3-bd76-8c5f8fa923e0",
   "metadata": {},
   "outputs": [],
   "source": [
    "import numpy as np\n",
    "import matplotlib.pyplot as plt\n",
    "\n",
    "from sktime.datasets import load_UCR_UEA_dataset\n",
    "from sklearn.svm import OneClassSVM\n",
    "from sklearn.metrics import accuracy_score, precision_score, recall_score, f1_score"
   ]
  },
  {
   "cell_type": "code",
   "execution_count": 2,
   "id": "def3d52b-ccaa-4014-9206-339566764f68",
   "metadata": {},
   "outputs": [],
   "source": [
    "DATASETS = [\n",
    "    'Yoga',\n",
    "    # 'WormsTwoClass',\n",
    "    # 'Wine',\n",
    "    # 'Wafer',\n",
    "    # 'TwoLeadECG',\n",
    "    # 'Strawberry',\n",
    "    # 'SemgHandGenderCh2', \n",
    "    # 'BeetleFly',\n",
    "    # 'BirdChicken',\n",
    "    # 'Computers',\n",
    "    # 'DistalPhalanxOutlineCorrect',\n",
    "    # 'Earthquakes',\n",
    "    # 'ECG200',\n",
    "    # 'ECGFiveDays',\n",
    "    # 'FordA',\n",
    "    # 'FordB',\n",
    "    # 'HandOutlines',\n",
    "    # 'ItalyPowerDemand', \n",
    "    # 'MiddlePhalanxOutlineCorrect',\n",
    "    # 'Chinatown',\n",
    "    # 'FreezerRegularTrain',\n",
    "    # 'FreezerSmallTrain',\n",
    "    # 'GunPointAgeSpan',\n",
    "    # 'GunPointMaleVersusFemale',\n",
    "    # 'GunPointOldVersusYoung',\n",
    "    # 'PowerCons',\n",
    "    # 'Coffee',\n",
    "    # 'Ham',\n",
    "    # 'Herring',\n",
    "    # 'Lightning2',\n",
    "    # 'MoteStrain',\n",
    "    # 'PhalangesOutlinesCorrect',\n",
    "    # 'ProximalPhalanxOutlineCorrect',\n",
    "    # 'ShapeletSim',\n",
    "    # 'SonyAIBORobotSurface1',\n",
    "    # 'SonyAIBORobotSurface2',\n",
    "    # 'ToeSegmentation1',\n",
    "    # 'ToeSegmentation2',\n",
    "    # 'HouseTwenty'\n",
    "]"
   ]
  },
  {
   "cell_type": "code",
   "execution_count": 4,
   "id": "945223d8-ea03-4e15-a641-4de58004a37e",
   "metadata": {},
   "outputs": [
    {
     "name": "stdout",
     "output_type": "stream",
     "text": [
      "\tDownloading the Yoga dataset...\n",
      "\t\tDownload completed!\n",
      "\tTransforming data to the correct format...\n",
      "\t\tTransform completed!\n",
      "\tStarting the classifier...\n",
      "\t\tClassifying the label 1...\n",
      "\t\tReport:\n",
      "\t\t\tF1 Score = 0.5633802816901408\n",
      "\t\tClassifying the label 2...\n",
      "\t\tReport:\n",
      "\t\t\tF1 Score = 0.6829798803697661\n",
      "----------------------------------------------------------------------------------------------------\n"
     ]
    }
   ],
   "source": [
    "for dataset in DATASETS:\n",
    "    print(f'\\tDownloading the {dataset} dataset...')\n",
    "    x_train, y_train = load_UCR_UEA_dataset(name=dataset, split='train')\n",
    "    # Since the features from the sktime are instatiated as objects we have to manually convert them\n",
    "    y_train = np.array(y_train, dtype=np.int32)\n",
    "\n",
    "    x_test, y_test = load_UCR_UEA_dataset(name=dataset, split='test')\n",
    "    y_test = np.array(y_test, dtype='int32') # Fixing the labels type\n",
    "    print(f'\\t\\tDownload completed!')\n",
    "    \n",
    "    print('\\tTransforming data to the correct format...')\n",
    "    x_train_transformed = []\n",
    "    for val in x_train.values:\n",
    "        x_train_transformed.append(val[0].tolist())\n",
    "    x_train = np.array(x_train_transformed)\n",
    "    \n",
    "    x_test_transformed = []\n",
    "    for val in x_test.values:\n",
    "        x_test_transformed.append(val[0].tolist())\n",
    "    x_test = np.array(x_test_transformed)\n",
    "    print('\\t\\tTransform completed!')\n",
    "    \n",
    "    print('\\tStarting the classifier...')\n",
    "    unique_labels = np.unique(y_train)\n",
    "\n",
    "    for label in unique_labels:\n",
    "        print(f'\\t\\tClassifying the label {label}...')\n",
    "        \n",
    "        x_train_ = x_train[y_train == label]\n",
    "        y_train_ = y_train[y_train == label]\n",
    "        \n",
    "        occ_labels = [1 if x == label else -1 for x in y_test]\n",
    "        \n",
    "        clf = OneClassSVM(gamma='scale', nu=0.15, kernel='rbf').fit(x_train_)\n",
    "        result_labels = clf.predict(x_test)\n",
    "        \n",
    "        print(f'\\t\\tReport:')\n",
    "        # print(f'\\t\\t\\tAccuracy Score = {accuracy_score(occ_labels, result_labels)}')\n",
    "        print(f'\\t\\t\\tF1 Score = {f1_score(occ_labels, result_labels)}')\n",
    "\n",
    "    print('-' * 100)"
   ]
  },
  {
   "cell_type": "code",
   "execution_count": null,
   "id": "a6721baf-6fda-4a60-97a3-f97b1e20ecb2",
   "metadata": {},
   "outputs": [],
   "source": []
  }
 ],
 "metadata": {
  "kernelspec": {
   "display_name": "Python 3 (ipykernel)",
   "language": "python",
   "name": "python3"
  },
  "language_info": {
   "codemirror_mode": {
    "name": "ipython",
    "version": 3
   },
   "file_extension": ".py",
   "mimetype": "text/x-python",
   "name": "python",
   "nbconvert_exporter": "python",
   "pygments_lexer": "ipython3",
   "version": "3.9.13"
  }
 },
 "nbformat": 4,
 "nbformat_minor": 5
}
