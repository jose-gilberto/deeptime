{
 "cells": [
  {
   "cell_type": "code",
   "execution_count": 1,
   "id": "94018866-0edd-4bc3-96cf-0a837e74e048",
   "metadata": {},
   "outputs": [],
   "source": [
    "import warnings\n",
    "warnings.filterwarnings('ignore')\n",
    "import numpy as np\n",
    "import umap\n",
    "import os\n",
    "import matplotlib.pyplot as plt\n",
    "from tqdm import tqdm\n",
    "\n",
    "import torch\n",
    "from torch.utils.data import DataLoader\n",
    "\n",
    "import pytorch_lightning as pl\n",
    "\n",
    "from deeptime.models.oneclass.linear import LinearOCC\n",
    "from deeptime.models.representation import LinearAutoEncoder\n",
    "from deeptime.data import BaseDataset\n",
    "\n",
    "from sktime.datasets import load_UCR_UEA_dataset\n",
    "\n",
    "from sklearn.svm import OneClassSVM\n",
    "from sklearn.metrics import accuracy_score, precision_score, recall_score, f1_score"
   ]
  },
  {
   "cell_type": "code",
   "execution_count": 2,
   "id": "4aa5ad48-d9bd-42a5-b3c0-351eb9cbf7f4",
   "metadata": {},
   "outputs": [],
   "source": [
    "DATASET = 'ECGFiveDays'\n",
    "ACTIVATION = 'swish'\n",
    "LABEL = 2\n",
    "LATENT = 32"
   ]
  },
  {
   "cell_type": "code",
   "execution_count": 3,
   "id": "4a4d16f4-1a67-4c68-b42e-779b1a1774dc",
   "metadata": {},
   "outputs": [
    {
     "data": {
      "text/plain": [
       "<All keys matched successfully>"
      ]
     },
     "execution_count": 3,
     "metadata": {},
     "output_type": "execute_result"
    }
   ],
   "source": [
    "x_train, y_train = load_UCR_UEA_dataset(name=DATASET, split='train')\n",
    "# Since the features from the sktime are instatiated as objects we have to manually convert them\n",
    "y_train = np.array(y_train, dtype=np.int32)\n",
    "\n",
    "sequence_length = x_train.values[0][0].shape[0]\n",
    "\n",
    "x_test, y_test = load_UCR_UEA_dataset(name=DATASET, split='test')\n",
    "y_test = np.array(y_test, dtype='int32') # Fixing the labels type\n",
    "\n",
    "x_train_transformed = []\n",
    "for val in x_train.values:\n",
    "    x_train_transformed.append(val[0].tolist())\n",
    "x_train = np.array(x_train_transformed)\n",
    "\n",
    "x_test_transformed = []\n",
    "for val in x_test.values:\n",
    "    x_test_transformed.append(val[0].tolist())\n",
    "x_test = np.array(x_test_transformed)\n",
    "\n",
    "x_train = x_train[y_train == LABEL]\n",
    "y_train = y_train[y_train == LABEL]\n",
    "\n",
    "train_dataset = BaseDataset(x=x_train, y=y_train)\n",
    "train_loader = DataLoader(train_dataset, batch_size=32)\n",
    "\n",
    "model = LinearAutoEncoder(input_dim=sequence_length, latent_dim=LATENT, activation='relu')\n",
    "model.load_state_dict(torch.load(f'../../../pretrain/representation/{DATASET}/linear_autoencoder-dim={LATENT}-l={LABEL}.pt'))"
   ]
  },
  {
   "cell_type": "code",
   "execution_count": 4,
   "id": "0fc99947-0722-4371-8365-35b2aea2044d",
   "metadata": {},
   "outputs": [],
   "source": [
    "y_test = np.array([1 if lbl == LABEL else -1 for lbl in y_test])\n",
    "test_dataset = BaseDataset(x=x_test, y=y_test)\n",
    "test_loader = DataLoader(test_dataset, batch_size=32)"
   ]
  },
  {
   "cell_type": "code",
   "execution_count": 5,
   "id": "5fb89577-d164-445d-879c-6fb1e5b73e61",
   "metadata": {},
   "outputs": [
    {
     "data": {
      "text/plain": [
       "array([1.89579384, 0.        , 1.89928275, 1.57951126, 1.71423286,\n",
       "       0.11256527, 0.        , 2.47822709, 0.0947147 , 1.5675701 ,\n",
       "       1.04553103, 0.        , 1.03788583, 0.02054047, 0.70356057,\n",
       "       3.09777347, 2.19886301, 3.36768095, 0.        , 1.97289443,\n",
       "       0.99083355, 0.02961204, 1.06661824, 1.73400725, 1.73524986,\n",
       "       2.44972973, 2.8294953 , 3.14087472, 0.94983392, 0.95973   ,\n",
       "       2.35997955, 0.        ])"
      ]
     },
     "execution_count": 5,
     "metadata": {},
     "output_type": "execute_result"
    }
   ],
   "source": [
    "representations = []\n",
    "\n",
    "for x, _ in train_loader:\n",
    "    _, z = model(x)\n",
    "    representations.extend(z.tolist())\n",
    "representations = np.array(representations)\n",
    "\n",
    "center = representations.mean(axis=0)\n",
    "center"
   ]
  },
  {
   "cell_type": "code",
   "execution_count": 6,
   "id": "34423f32-9692-453c-adc0-51d967b9588d",
   "metadata": {},
   "outputs": [],
   "source": [
    "class Plot2DCallback(pl.Callback):\n",
    "\n",
    "    def __init__(self, path: str, label) -> None:\n",
    "        super().__init__()\n",
    "        self.path = path\n",
    "        self.label = label\n",
    "\n",
    "    def on_train_epoch_end(\n",
    "        self,\n",
    "        trainer: pl.Trainer,\n",
    "        pl_module: pl.LightningModule\n",
    "    ) -> None:\n",
    "        fig, ax = plt.subplots(figsize=(10, 10))\n",
    "\n",
    "        circle = plt.Circle((pl_module.center[0].item(), pl_module.center[1].item()), 2, fill=False, color='red')\n",
    "        ax.add_patch(circle)\n",
    "\n",
    "        colors = []\n",
    "        \n",
    "        ax.set_ylim([-10, 10])\n",
    "        ax.set_xlim([-10, 10])\n",
    "\n",
    "        representations = []\n",
    "        for x, y in trainer.train_dataloader:\n",
    "            x = x.view(x.shape[0], -1)\n",
    "            z = pl_module(x.to('cuda'))\n",
    "\n",
    "            representations.extend(z.tolist())\n",
    "            colors.extend(['lightgreen' for _ in y])\n",
    "\n",
    "        test_representations = []\n",
    "        for x, y in trainer.val_dataloaders[0]:\n",
    "            x = x.view(x.shape[0], -1)\n",
    "            z = pl_module(x.to('cuda'))\n",
    "\n",
    "            test_representations.extend(z.tolist())\n",
    "\n",
    "            colors.extend(['lightgreen' if l == self.label else 'tomato' for l in y])\n",
    "\n",
    "        representations.extend(test_representations)\n",
    "        representations = np.array(representations)\n",
    "\n",
    "        ax.scatter(representations[:, 0], representations[:, 1], c=colors)\n",
    "\n",
    "        plt.savefig(os.path.join(self.path, f'{trainer.current_epoch}.png'))\n",
    "        plt.close()\n",
    "        \n",
    "class LitProgressBar(pl.callbacks.TQDMProgressBar):\n",
    "\n",
    "    def init_validation_tqdm(self):\n",
    "        bar = tqdm(\n",
    "            disable=True,\n",
    "        )\n",
    "        return bar"
   ]
  },
  {
   "cell_type": "code",
   "execution_count": 7,
   "id": "3c118759-a81d-4ec4-9b4b-13c964180ae9",
   "metadata": {},
   "outputs": [],
   "source": [
    "model = LinearOCC(\n",
    "    input_dim=sequence_length,\n",
    "    latent_dim=LATENT,\n",
    "    activation=ACTIVATION,\n",
    "    radius=3,\n",
    "    learning_rate=5e-5\n",
    ")\n",
    "\n",
    "model.center = torch.from_numpy(center)\n",
    "# model.center = torch.tensor([0., 0.]).float()\n",
    "\n",
    "# model.load_pretrained_weights(\n",
    "#     f'../../../pretrain/representation/{DATASET}/linear_autoencoder-dim={LATENT}-l={LABEL}.pt'\n",
    "# )"
   ]
  },
  {
   "cell_type": "code",
   "execution_count": 8,
   "id": "6e8e2e61-98f4-41e8-8869-cb8aa9335cdc",
   "metadata": {},
   "outputs": [
    {
     "name": "stderr",
     "output_type": "stream",
     "text": [
      "GPU available: True (cuda), used: True\n",
      "TPU available: False, using: 0 TPU cores\n",
      "IPU available: False, using: 0 IPUs\n",
      "HPU available: False, using: 0 HPUs\n",
      "LOCAL_RANK: 0 - CUDA_VISIBLE_DEVICES: [0]\n",
      "\n",
      "  | Name | Type       | Params\n",
      "------------------------------------\n",
      "0 | e    | Sequential | 334 K \n",
      "------------------------------------\n",
      "334 K     Trainable params\n",
      "0         Non-trainable params\n",
      "334 K     Total params\n",
      "1.336     Total estimated model params size (MB)\n"
     ]
    },
    {
     "name": "stdout",
     "output_type": "stream",
     "text": [
      "Epoch 112:  82%|████████▏ | 23/28 [00:00<00:00, 73.24it/s, loss=0.467, v_num=166, train_loss=0.000, val_f1_score=0.676]"
     ]
    }
   ],
   "source": [
    "trainer = pl.Trainer(\n",
    "    max_epochs=500,\n",
    "    accelerator='gpu',\n",
    "    devices=-1,\n",
    "    callbacks=[\n",
    "        # Plot2DCallback(path='./logs/linear/', label=LABEL),\n",
    "        LitProgressBar()\n",
    "    ]\n",
    ")\n",
    "\n",
    "trainer.fit(model, train_dataloaders=train_loader, val_dataloaders=test_loader)"
   ]
  },
  {
   "cell_type": "code",
   "execution_count": 9,
   "id": "fd8e376a-54be-4db7-a77c-03258414c4b8",
   "metadata": {},
   "outputs": [
    {
     "name": "stderr",
     "output_type": "stream",
     "text": [
      "LOCAL_RANK: 0 - CUDA_VISIBLE_DEVICES: [0]\n"
     ]
    },
    {
     "name": "stdout",
     "output_type": "stream",
     "text": [
      "Testing: 27it [00:00, 41.35it/s]\n"
     ]
    },
    {
     "data": {
      "text/html": [
       "<pre style=\"white-space:pre;overflow-x:auto;line-height:normal;font-family:Menlo,'DejaVu Sans Mono',consolas,'Courier New',monospace\">┏━━━━━━━━━━━━━━━━━━━━━━━━━━━┳━━━━━━━━━━━━━━━━━━━━━━━━━━━┓\n",
       "┃<span style=\"font-weight: bold\">        Test metric        </span>┃<span style=\"font-weight: bold\">       DataLoader 0        </span>┃\n",
       "┡━━━━━━━━━━━━━━━━━━━━━━━━━━━╇━━━━━━━━━━━━━━━━━━━━━━━━━━━┩\n",
       "│<span style=\"color: #008080; text-decoration-color: #008080\">       test_accuracy       </span>│<span style=\"color: #800080; text-decoration-color: #800080\">    0.5435540069686411     </span>│\n",
       "│<span style=\"color: #008080; text-decoration-color: #008080\">       test_f1_score       </span>│<span style=\"color: #800080; text-decoration-color: #800080\">    0.6768442958752664     </span>│\n",
       "│<span style=\"color: #008080; text-decoration-color: #008080\">   test_precision_score    </span>│<span style=\"color: #800080; text-decoration-color: #800080\">     0.526581414488276     </span>│\n",
       "│<span style=\"color: #008080; text-decoration-color: #008080\">     test_recall_score     </span>│<span style=\"color: #800080; text-decoration-color: #800080\">    0.9644118038029647     </span>│\n",
       "└───────────────────────────┴───────────────────────────┘\n",
       "</pre>\n"
      ],
      "text/plain": [
       "┏━━━━━━━━━━━━━━━━━━━━━━━━━━━┳━━━━━━━━━━━━━━━━━━━━━━━━━━━┓\n",
       "┃\u001b[1m \u001b[0m\u001b[1m       Test metric       \u001b[0m\u001b[1m \u001b[0m┃\u001b[1m \u001b[0m\u001b[1m      DataLoader 0       \u001b[0m\u001b[1m \u001b[0m┃\n",
       "┡━━━━━━━━━━━━━━━━━━━━━━━━━━━╇━━━━━━━━━━━━━━━━━━━━━━━━━━━┩\n",
       "│\u001b[36m \u001b[0m\u001b[36m      test_accuracy      \u001b[0m\u001b[36m \u001b[0m│\u001b[35m \u001b[0m\u001b[35m   0.5435540069686411    \u001b[0m\u001b[35m \u001b[0m│\n",
       "│\u001b[36m \u001b[0m\u001b[36m      test_f1_score      \u001b[0m\u001b[36m \u001b[0m│\u001b[35m \u001b[0m\u001b[35m   0.6768442958752664    \u001b[0m\u001b[35m \u001b[0m│\n",
       "│\u001b[36m \u001b[0m\u001b[36m  test_precision_score   \u001b[0m\u001b[36m \u001b[0m│\u001b[35m \u001b[0m\u001b[35m    0.526581414488276    \u001b[0m\u001b[35m \u001b[0m│\n",
       "│\u001b[36m \u001b[0m\u001b[36m    test_recall_score    \u001b[0m\u001b[36m \u001b[0m│\u001b[35m \u001b[0m\u001b[35m   0.9644118038029647    \u001b[0m\u001b[35m \u001b[0m│\n",
       "└───────────────────────────┴───────────────────────────┘\n"
      ]
     },
     "metadata": {},
     "output_type": "display_data"
    },
    {
     "data": {
      "text/plain": [
       "[{'test_accuracy': 0.5435540069686411,\n",
       "  'test_f1_score': 0.6768442958752664,\n",
       "  'test_recall_score': 0.9644118038029647,\n",
       "  'test_precision_score': 0.526581414488276}]"
      ]
     },
     "execution_count": 9,
     "metadata": {},
     "output_type": "execute_result"
    }
   ],
   "source": [
    "trainer.test(model, test_loader)"
   ]
  },
  {
   "cell_type": "code",
   "execution_count": null,
   "id": "13540b11-4912-426e-b6e4-af783f89db53",
   "metadata": {},
   "outputs": [],
   "source": []
  }
 ],
 "metadata": {
  "kernelspec": {
   "display_name": "Python 3 (ipykernel)",
   "language": "python",
   "name": "python3"
  },
  "language_info": {
   "codemirror_mode": {
    "name": "ipython",
    "version": 3
   },
   "file_extension": ".py",
   "mimetype": "text/x-python",
   "name": "python",
   "nbconvert_exporter": "python",
   "pygments_lexer": "ipython3",
   "version": "3.9.13"
  }
 },
 "nbformat": 4,
 "nbformat_minor": 5
}
