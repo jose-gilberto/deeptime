{
 "cells": [
  {
   "cell_type": "code",
   "execution_count": 1,
   "id": "ad52b633-cc15-40b9-a524-2d96c2abc4aa",
   "metadata": {
    "tags": []
   },
   "outputs": [],
   "source": [
    "import warnings\n",
    "warnings.filterwarnings('ignore')\n",
    "import numpy as np\n",
    "import umap\n",
    "import os\n",
    "import matplotlib.pyplot as plt\n",
    "from tqdm import tqdm\n",
    "\n",
    "import torch\n",
    "from torch.utils.data import DataLoader\n",
    "\n",
    "import pytorch_lightning as pl\n",
    "\n",
    "from deeptime.models.oneclass.conv import ConvOCC\n",
    "from deeptime.models.representation import ConvAutoEncoder\n",
    "from deeptime.data import BaseDataset\n",
    "\n",
    "from sktime.datasets import load_UCR_UEA_dataset\n",
    "from sklearn.metrics import accuracy_score, precision_score, recall_score, f1_score"
   ]
  },
  {
   "cell_type": "code",
   "execution_count": 2,
   "id": "db1995f4-c4e8-4836-b20a-2c8576727583",
   "metadata": {
    "tags": []
   },
   "outputs": [],
   "source": [
    "DATASET = 'ECGFiveDays'\n",
    "ACTIVATION = 'sinl'\n",
    "LABEL = 1\n",
    "LATENT = 32"
   ]
  },
  {
   "cell_type": "code",
   "execution_count": 3,
   "id": "919d7f22-fde5-433e-a703-49c935601bee",
   "metadata": {
    "tags": []
   },
   "outputs": [
    {
     "data": {
      "text/plain": [
       "<All keys matched successfully>"
      ]
     },
     "execution_count": 3,
     "metadata": {},
     "output_type": "execute_result"
    }
   ],
   "source": [
    "x_train, y_train = load_UCR_UEA_dataset(name=DATASET, split='train')\n",
    "# Since the features from the sktime are instatiated as objects we have to manually convert them\n",
    "y_train = np.array(y_train, dtype=np.int32)\n",
    "\n",
    "sequence_length = x_train.values[0][0].shape[0]\n",
    "\n",
    "x_test, y_test = load_UCR_UEA_dataset(name=DATASET, split='test')\n",
    "y_test = np.array(y_test, dtype='int32') # Fixing the labels type\n",
    "\n",
    "x_train_transformed = []\n",
    "for val in x_train.values:\n",
    "    x_train_transformed.append(val[0].tolist())\n",
    "x_train = np.array(x_train_transformed)\n",
    "\n",
    "x_test_transformed = []\n",
    "for val in x_test.values:\n",
    "    x_test_transformed.append(val[0].tolist())\n",
    "x_test = np.array(x_test_transformed)\n",
    "\n",
    "x_train = np.expand_dims(x_train_transformed, axis=1)\n",
    "x_test = np.expand_dims(x_test_transformed, axis=1)\n",
    "\n",
    "train_dataset = BaseDataset(x=x_train, y=y_train)\n",
    "train_loader = DataLoader(train_dataset, batch_size=32)\n",
    "\n",
    "model = ConvAutoEncoder(in_channels=1, in_features=sequence_length, latent_dim=LATENT)\n",
    "model.load_state_dict(torch.load(f'../../../pretrain/representation/{DATASET}/conv_autoencoder-dim={LATENT}-l={LABEL}.pt'))\n",
    "\n",
    "# x_train_ = x_train[y_train == label]\n",
    "# y_train_ = y_train[y_train == label]"
   ]
  },
  {
   "cell_type": "code",
   "execution_count": 4,
   "id": "769c11a0-3b30-45a8-afc0-b8b2b96f6f2e",
   "metadata": {},
   "outputs": [],
   "source": [
    "y_test = np.array([1 if lbl == LABEL else -1 for lbl in y_test])\n",
    "test_dataset = BaseDataset(x=x_test, y=y_test)\n",
    "test_loader = DataLoader(test_dataset, batch_size=32)"
   ]
  },
  {
   "cell_type": "code",
   "execution_count": 5,
   "id": "829b6943-a574-4e40-b3bd-b6d4518ea64b",
   "metadata": {},
   "outputs": [
    {
     "data": {
      "text/plain": [
       "array([2.48609997e-03, 1.58402803e-01, 4.22164236e-02, 4.06682309e-03,\n",
       "       7.19768268e-02, 1.19055475e-01, 0.00000000e+00, 1.11578008e-01,\n",
       "       2.03621644e-01, 5.09013742e-01, 7.93226698e-02, 1.89969421e-03,\n",
       "       3.77697364e-04, 1.86289558e-01, 6.32687860e-02, 5.83560253e-02,\n",
       "       2.97538200e-01, 9.92069460e-02, 1.58992330e-02, 2.33221685e-01,\n",
       "       2.88288505e-01, 0.00000000e+00, 0.00000000e+00, 0.00000000e+00,\n",
       "       2.07983170e-01, 0.00000000e+00, 2.23781298e-03, 0.00000000e+00,\n",
       "       2.28914162e-02, 1.20229189e-01, 3.45366254e-03, 5.21974259e-02])"
      ]
     },
     "execution_count": 5,
     "metadata": {},
     "output_type": "execute_result"
    }
   ],
   "source": [
    "representations = []\n",
    "\n",
    "for x, _ in train_loader:\n",
    "    _, z = model(x)\n",
    "    representations.extend(z.tolist())\n",
    "representations = np.array(representations)\n",
    "\n",
    "center = representations.mean(axis=0)\n",
    "center"
   ]
  },
  {
   "cell_type": "code",
   "execution_count": 6,
   "id": "35676945-ff34-4427-8657-14d9b1721094",
   "metadata": {
    "tags": []
   },
   "outputs": [],
   "source": [
    "model = ConvOCC(\n",
    "    in_channels=1,\n",
    "    in_features=sequence_length,\n",
    "    latent_dim=LATENT,\n",
    "    radius=.2,\n",
    "    learning_rate=5e-6\n",
    ")\n",
    "\n",
    "model.center = torch.from_numpy(center)\n",
    "\n",
    "model.load_pretrained_weights(\n",
    "    f'../../../pretrain/representation/{DATASET}/conv_autoencoder-dim={LATENT}-l={LABEL}.pt'\n",
    ")"
   ]
  },
  {
   "cell_type": "code",
   "execution_count": 7,
   "id": "fce04b88-80f8-4b82-aeea-bf7acab77bcb",
   "metadata": {},
   "outputs": [],
   "source": [
    "class LitProgressBar(pl.callbacks.TQDMProgressBar):\n",
    "\n",
    "    def init_validation_tqdm(self):\n",
    "        bar = tqdm(\n",
    "            disable=True,\n",
    "        )\n",
    "        return bar"
   ]
  },
  {
   "cell_type": "code",
   "execution_count": 8,
   "id": "0b664513-4354-44a7-a768-18eaf0df74aa",
   "metadata": {
    "tags": []
   },
   "outputs": [
    {
     "name": "stderr",
     "output_type": "stream",
     "text": [
      "GPU available: True (cuda), used: True\n",
      "TPU available: False, using: 0 TPU cores\n",
      "IPU available: False, using: 0 IPUs\n",
      "HPU available: False, using: 0 HPUs\n",
      "LOCAL_RANK: 0 - CUDA_VISIBLE_DEVICES: [0]\n",
      "\n",
      "  | Name | Type       | Params\n",
      "------------------------------------\n",
      "0 | e    | Sequential | 4.8 M \n",
      "------------------------------------\n",
      "4.8 M     Trainable params\n",
      "0         Non-trainable params\n",
      "4.8 M     Total params\n",
      "19.030    Total estimated model params size (MB)\n"
     ]
    },
    {
     "name": "stdout",
     "output_type": "stream",
     "text": [
      "Epoch 66: 100%|████████| 28/28 [00:00<00:00, 82.80it/s, loss=6.31e-08, v_num=170, train_loss=0.000, val_f1_score=0.647]"
     ]
    }
   ],
   "source": [
    "trainer = pl.Trainer(\n",
    "    max_epochs=100,\n",
    "    accelerator='gpu',\n",
    "    devices=-1,\n",
    "    callbacks=[LitProgressBar()]\n",
    ")\n",
    "\n",
    "trainer.fit(model, train_dataloaders=train_loader, val_dataloaders=test_loader)"
   ]
  },
  {
   "cell_type": "code",
   "execution_count": 9,
   "id": "611c7450-70d8-47ff-a4f2-b0ce6b5c4f34",
   "metadata": {
    "tags": []
   },
   "outputs": [
    {
     "name": "stderr",
     "output_type": "stream",
     "text": [
      "LOCAL_RANK: 0 - CUDA_VISIBLE_DEVICES: [0]\n"
     ]
    },
    {
     "name": "stdout",
     "output_type": "stream",
     "text": [
      "Testing DataLoader 0: 100%|████████████████████████████████████████████████████████████| 27/27 [00:00<00:00, 84.02it/s]\n"
     ]
    },
    {
     "data": {
      "text/html": [
       "<pre style=\"white-space:pre;overflow-x:auto;line-height:normal;font-family:Menlo,'DejaVu Sans Mono',consolas,'Courier New',monospace\">┏━━━━━━━━━━━━━━━━━━━━━━━━━━━┳━━━━━━━━━━━━━━━━━━━━━━━━━━━┓\n",
       "┃<span style=\"font-weight: bold\">        Test metric        </span>┃<span style=\"font-weight: bold\">       DataLoader 0        </span>┃\n",
       "┡━━━━━━━━━━━━━━━━━━━━━━━━━━━╇━━━━━━━━━━━━━━━━━━━━━━━━━━━┩\n",
       "│<span style=\"color: #008080; text-decoration-color: #008080\">    test_accuracy_score    </span>│<span style=\"color: #800080; text-decoration-color: #800080\">    0.5656213704994193     </span>│\n",
       "│<span style=\"color: #008080; text-decoration-color: #008080\">       test_f1_score       </span>│<span style=\"color: #800080; text-decoration-color: #800080\">    0.6472157446221736     </span>│\n",
       "│<span style=\"color: #008080; text-decoration-color: #008080\">   test_precision_score    </span>│<span style=\"color: #800080; text-decoration-color: #800080\">     0.539599452492048     </span>│\n",
       "│<span style=\"color: #008080; text-decoration-color: #008080\">     test_recall_score     </span>│<span style=\"color: #800080; text-decoration-color: #800080\">    0.8186782614215975     </span>│\n",
       "└───────────────────────────┴───────────────────────────┘\n",
       "</pre>\n"
      ],
      "text/plain": [
       "┏━━━━━━━━━━━━━━━━━━━━━━━━━━━┳━━━━━━━━━━━━━━━━━━━━━━━━━━━┓\n",
       "┃\u001b[1m \u001b[0m\u001b[1m       Test metric       \u001b[0m\u001b[1m \u001b[0m┃\u001b[1m \u001b[0m\u001b[1m      DataLoader 0       \u001b[0m\u001b[1m \u001b[0m┃\n",
       "┡━━━━━━━━━━━━━━━━━━━━━━━━━━━╇━━━━━━━━━━━━━━━━━━━━━━━━━━━┩\n",
       "│\u001b[36m \u001b[0m\u001b[36m   test_accuracy_score   \u001b[0m\u001b[36m \u001b[0m│\u001b[35m \u001b[0m\u001b[35m   0.5656213704994193    \u001b[0m\u001b[35m \u001b[0m│\n",
       "│\u001b[36m \u001b[0m\u001b[36m      test_f1_score      \u001b[0m\u001b[36m \u001b[0m│\u001b[35m \u001b[0m\u001b[35m   0.6472157446221736    \u001b[0m\u001b[35m \u001b[0m│\n",
       "│\u001b[36m \u001b[0m\u001b[36m  test_precision_score   \u001b[0m\u001b[36m \u001b[0m│\u001b[35m \u001b[0m\u001b[35m    0.539599452492048    \u001b[0m\u001b[35m \u001b[0m│\n",
       "│\u001b[36m \u001b[0m\u001b[36m    test_recall_score    \u001b[0m\u001b[36m \u001b[0m│\u001b[35m \u001b[0m\u001b[35m   0.8186782614215975    \u001b[0m\u001b[35m \u001b[0m│\n",
       "└───────────────────────────┴───────────────────────────┘\n"
      ]
     },
     "metadata": {},
     "output_type": "display_data"
    },
    {
     "data": {
      "text/plain": [
       "[{'test_f1_score': 0.6472157446221736,\n",
       "  'test_accuracy_score': 0.5656213704994193,\n",
       "  'test_recall_score': 0.8186782614215975,\n",
       "  'test_precision_score': 0.539599452492048}]"
      ]
     },
     "execution_count": 9,
     "metadata": {},
     "output_type": "execute_result"
    }
   ],
   "source": [
    "trainer.test(model, test_loader)"
   ]
  },
  {
   "cell_type": "code",
   "execution_count": null,
   "id": "9fdc97ab-995e-4df7-9911-5893f0b7b6dd",
   "metadata": {},
   "outputs": [],
   "source": []
  }
 ],
 "metadata": {
  "kernelspec": {
   "display_name": "Python 3 (ipykernel)",
   "language": "python",
   "name": "python3"
  },
  "language_info": {
   "codemirror_mode": {
    "name": "ipython",
    "version": 3
   },
   "file_extension": ".py",
   "mimetype": "text/x-python",
   "name": "python",
   "nbconvert_exporter": "python",
   "pygments_lexer": "ipython3",
   "version": "3.9.13"
  }
 },
 "nbformat": 4,
 "nbformat_minor": 5
}
