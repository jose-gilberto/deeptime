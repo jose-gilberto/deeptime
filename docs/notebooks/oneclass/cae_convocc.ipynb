{
 "cells": [
  {
   "cell_type": "code",
   "execution_count": 1,
   "id": "ad52b633-cc15-40b9-a524-2d96c2abc4aa",
   "metadata": {
    "tags": []
   },
   "outputs": [],
   "source": [
    "import warnings\n",
    "warnings.filterwarnings('ignore')\n",
    "import numpy as np\n",
    "import umap\n",
    "import matplotlib.pyplot as plt\n",
    "\n",
    "from tqdm import tqdm\n",
    "\n",
    "import torch\n",
    "from torch.utils.data import DataLoader\n",
    "\n",
    "import pytorch_lightning as pl\n",
    "\n",
    "from deeptime.models.oneclass.conv import ConvOCC\n",
    "from deeptime.models.representation import ConvAutoEncoder\n",
    "from deeptime.data import BaseDataset\n",
    "\n",
    "from sktime.datasets import load_UCR_UEA_dataset\n",
    "\n",
    "from sklearn.svm import OneClassSVM\n",
    "from sklearn.metrics import accuracy_score, precision_score, recall_score, f1_score"
   ]
  },
  {
   "cell_type": "code",
   "execution_count": 2,
   "id": "db1995f4-c4e8-4836-b20a-2c8576727583",
   "metadata": {
    "tags": []
   },
   "outputs": [],
   "source": [
    "DATASETS = [\n",
    "    'Yoga',\n",
    "    # 'WormsTwoClass',\n",
    "    # 'Wine',\n",
    "    # 'Wafer',\n",
    "    # 'TwoLeadECG',\n",
    "    # 'Strawberry',\n",
    "    # 'SemgHandGenderCh2', \n",
    "    # 'BeetleFly',\n",
    "    # 'BirdChicken',\n",
    "    # 'Computers',\n",
    "    # 'DistalPhalanxOutlineCorrect',\n",
    "    # 'Earthquakes',\n",
    "    # 'ECG200',\n",
    "    # 'ECGFiveDays',\n",
    "    # 'FordA',\n",
    "    # 'FordB',\n",
    "    # 'HandOutlines',\n",
    "    # 'ItalyPowerDemand', \n",
    "    # 'MiddlePhalanxOutlineCorrect',\n",
    "    # 'Chinatown',\n",
    "    # 'FreezerRegularTrain',\n",
    "    # 'FreezerSmallTrain',\n",
    "    # 'GunPointAgeSpan',\n",
    "    # 'GunPointMaleVersusFemale',\n",
    "    # 'GunPointOldVersusYoung',\n",
    "    # 'PowerCons',\n",
    "    # 'Coffee',\n",
    "    # 'Ham',\n",
    "    # 'Herring',\n",
    "    # 'Lightning2',\n",
    "    # 'MoteStrain',\n",
    "    # 'PhalangesOutlinesCorrect',\n",
    "    # 'ProximalPhalanxOutlineCorrect',\n",
    "    # 'ShapeletSim',\n",
    "    # 'SonyAIBORobotSurface1',\n",
    "    # 'SonyAIBORobotSurface2',\n",
    "    # 'ToeSegmentation1',\n",
    "    # 'ToeSegmentation2',\n",
    "    # 'HouseTwenty'\n",
    "]"
   ]
  },
  {
   "cell_type": "code",
   "execution_count": 3,
   "id": "919d7f22-fde5-433e-a703-49c935601bee",
   "metadata": {
    "tags": []
   },
   "outputs": [],
   "source": [
    "dataset = 'Yoga'\n",
    "\n",
    "x_train, y_train = load_UCR_UEA_dataset(name=dataset, split='train')\n",
    "# Since the features from the sktime are instatiated as objects we have to manually convert them\n",
    "y_train = np.array(y_train, dtype=np.int32)\n",
    "\n",
    "sequence_length = x_train.values[0][0].shape[0]\n",
    "\n",
    "x_test, y_test = load_UCR_UEA_dataset(name=dataset, split='test')\n",
    "y_test = np.array(y_test, dtype='int32') # Fixing the labels type\n",
    "\n",
    "x_train_transformed = []\n",
    "for val in x_train.values:\n",
    "    x_train_transformed.append(val[0].tolist())\n",
    "x_train = np.array(x_train_transformed)\n",
    "\n",
    "x_test_transformed = []\n",
    "for val in x_test.values:\n",
    "    x_test_transformed.append(val[0].tolist())\n",
    "x_test = np.array(x_test_transformed)\n",
    "\n",
    "x_train = np.expand_dims(x_train_transformed, axis=1)\n",
    "x_test = np.expand_dims(x_test_transformed, axis=1)\n",
    "\n",
    "train_dataset = BaseDataset(x=x_train, y=y_train)\n",
    "train_loader = DataLoader(train_dataset, batch_size=32)"
   ]
  },
  {
   "cell_type": "code",
   "execution_count": 4,
   "id": "35676945-ff34-4427-8657-14d9b1721094",
   "metadata": {
    "tags": []
   },
   "outputs": [],
   "source": [
    "model = ConvOCC(\n",
    "    in_channels=1,\n",
    "    in_features=sequence_length,\n",
    "    latent_dim=32,\n",
    "    radius=0.35,\n",
    "    learning_rate=1e-6\n",
    ")\n",
    "\n",
    "model.center = torch.tensor([0. for _ in range(32)])\n",
    "\n",
    "model.load_pretrained_weights(\n",
    "    f'../../../pretrain/representation/{dataset}/conv_autoencoder-l32.pt'\n",
    ")"
   ]
  },
  {
   "cell_type": "code",
   "execution_count": 5,
   "id": "34a5fab0-8109-4fc0-a60b-5907c99144d3",
   "metadata": {},
   "outputs": [],
   "source": [
    "class LitProgressBar(pl.callbacks.TQDMProgressBar):\n",
    "\n",
    "    def init_validation_tqdm(self):\n",
    "        bar = tqdm(\n",
    "            disable=True,\n",
    "        )\n",
    "        return bar"
   ]
  },
  {
   "cell_type": "code",
   "execution_count": 6,
   "id": "0b664513-4354-44a7-a768-18eaf0df74aa",
   "metadata": {
    "tags": []
   },
   "outputs": [
    {
     "name": "stderr",
     "output_type": "stream",
     "text": [
      "GPU available: True (cuda), used: True\n",
      "TPU available: False, using: 0 TPU cores\n",
      "IPU available: False, using: 0 IPUs\n",
      "HPU available: False, using: 0 HPUs\n",
      "LOCAL_RANK: 0 - CUDA_VISIBLE_DEVICES: [0]\n",
      "\n",
      "  | Name | Type       | Params\n",
      "------------------------------------\n",
      "0 | e    | Sequential | 14.3 M\n",
      "------------------------------------\n",
      "14.3 M    Trainable params\n",
      "0         Non-trainable params\n",
      "14.3 M    Total params\n",
      "57.041    Total estimated model params size (MB)\n"
     ]
    },
    {
     "name": "stdout",
     "output_type": "stream",
     "text": [
      "Epoch 108:  45%|███▏   | 47/104 [00:00<00:00, 64.92it/s, loss=0.000311, v_num=26, train_loss=0.000, val_f1_score=0.623]"
     ]
    }
   ],
   "source": [
    "x_train_ = x_train[y_train == 1]\n",
    "y_train_ = y_train[y_train == 1]\n",
    "\n",
    "train_dataset = BaseDataset(x=x_train, y=y_train)\n",
    "train_loader = DataLoader(train_dataset, batch_size=32)\n",
    "\n",
    "# model._init_center(train_loader)\n",
    "\n",
    "occ_labels = [1 if x == 1 else -1 for x in y_test]\n",
    "        \n",
    "test_dataset = BaseDataset(x=x_test, y=np.array(occ_labels))\n",
    "test_loader = DataLoader(test_dataset, batch_size=32)\n",
    "\n",
    "trainer = pl.Trainer(\n",
    "    max_epochs=300,\n",
    "    accelerator='gpu',\n",
    "    devices=-1,\n",
    "    callbacks=[LitProgressBar()]\n",
    ")\n",
    "\n",
    "trainer.fit(model, train_dataloaders=train_loader, val_dataloaders=test_loader)"
   ]
  },
  {
   "cell_type": "code",
   "execution_count": 7,
   "id": "611c7450-70d8-47ff-a4f2-b0ce6b5c4f34",
   "metadata": {
    "tags": []
   },
   "outputs": [
    {
     "name": "stderr",
     "output_type": "stream",
     "text": [
      "LOCAL_RANK: 0 - CUDA_VISIBLE_DEVICES: [0]\n"
     ]
    },
    {
     "name": "stdout",
     "output_type": "stream",
     "text": [
      "Testing: 94it [00:01, 83.96it/s]\n"
     ]
    },
    {
     "data": {
      "text/html": [
       "<pre style=\"white-space:pre;overflow-x:auto;line-height:normal;font-family:Menlo,'DejaVu Sans Mono',consolas,'Courier New',monospace\">┏━━━━━━━━━━━━━━━━━━━━━━━━━━━┳━━━━━━━━━━━━━━━━━━━━━━━━━━━┓\n",
       "┃<span style=\"font-weight: bold\">        Test metric        </span>┃<span style=\"font-weight: bold\">       DataLoader 0        </span>┃\n",
       "┡━━━━━━━━━━━━━━━━━━━━━━━━━━━╇━━━━━━━━━━━━━━━━━━━━━━━━━━━┩\n",
       "│<span style=\"color: #008080; text-decoration-color: #008080\">       test_f1_score       </span>│<span style=\"color: #800080; text-decoration-color: #800080\">    0.6188875239148549     </span>│\n",
       "└───────────────────────────┴───────────────────────────┘\n",
       "</pre>\n"
      ],
      "text/plain": [
       "┏━━━━━━━━━━━━━━━━━━━━━━━━━━━┳━━━━━━━━━━━━━━━━━━━━━━━━━━━┓\n",
       "┃\u001b[1m \u001b[0m\u001b[1m       Test metric       \u001b[0m\u001b[1m \u001b[0m┃\u001b[1m \u001b[0m\u001b[1m      DataLoader 0       \u001b[0m\u001b[1m \u001b[0m┃\n",
       "┡━━━━━━━━━━━━━━━━━━━━━━━━━━━╇━━━━━━━━━━━━━━━━━━━━━━━━━━━┩\n",
       "│\u001b[36m \u001b[0m\u001b[36m      test_f1_score      \u001b[0m\u001b[36m \u001b[0m│\u001b[35m \u001b[0m\u001b[35m   0.6188875239148549    \u001b[0m\u001b[35m \u001b[0m│\n",
       "└───────────────────────────┴───────────────────────────┘\n"
      ]
     },
     "metadata": {},
     "output_type": "display_data"
    },
    {
     "data": {
      "text/plain": [
       "[{'test_f1_score': 0.6188875239148549}]"
      ]
     },
     "execution_count": 7,
     "metadata": {},
     "output_type": "execute_result"
    }
   ],
   "source": [
    "trainer.test(model, test_loader)"
   ]
  },
  {
   "cell_type": "code",
   "execution_count": null,
   "id": "88b122e5-85be-41ff-8ee2-95223df9b2a9",
   "metadata": {},
   "outputs": [],
   "source": []
  }
 ],
 "metadata": {
  "kernelspec": {
   "display_name": "Python 3 (ipykernel)",
   "language": "python",
   "name": "python3"
  },
  "language_info": {
   "codemirror_mode": {
    "name": "ipython",
    "version": 3
   },
   "file_extension": ".py",
   "mimetype": "text/x-python",
   "name": "python",
   "nbconvert_exporter": "python",
   "pygments_lexer": "ipython3",
   "version": "3.9.13"
  }
 },
 "nbformat": 4,
 "nbformat_minor": 5
}
