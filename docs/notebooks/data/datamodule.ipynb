{
 "cells": [
  {
   "cell_type": "code",
   "execution_count": 1,
   "id": "a2be859b-fc14-403b-8ebc-d0b5e1e13109",
   "metadata": {},
   "outputs": [
    {
     "name": "stderr",
     "output_type": "stream",
     "text": [
      "C:\\Users\\medei\\AppData\\Local\\Programs\\Python\\Python39\\lib\\site-packages\\tqdm\\auto.py:22: TqdmWarning: IProgress not found. Please update jupyter and ipywidgets. See https://ipywidgets.readthedocs.io/en/stable/user_install.html\n",
      "  from .autonotebook import tqdm as notebook_tqdm\n"
     ]
    }
   ],
   "source": [
    "from deeptime.data.datamodules import UcrDataModule"
   ]
  },
  {
   "cell_type": "code",
   "execution_count": 2,
   "id": "51db3bea-ddc4-48ad-9233-c971680fcc97",
   "metadata": {},
   "outputs": [
    {
     "data": {
      "text/plain": [
       "<deeptime.data.datamodules.UcrDataModule at 0x1aec867b7c0>"
      ]
     },
     "execution_count": 2,
     "metadata": {},
     "output_type": "execute_result"
    }
   ],
   "source": [
    "data_module = UcrDataModule(dataset_name='FordA')\n",
    "data_module"
   ]
  },
  {
   "cell_type": "code",
   "execution_count": 3,
   "id": "9133162a-24f6-4bf0-8d45-4eed4e606537",
   "metadata": {},
   "outputs": [
    {
     "data": {
      "text/plain": [
       "500"
      ]
     },
     "execution_count": 3,
     "metadata": {},
     "output_type": "execute_result"
    }
   ],
   "source": [
    "data_module.sequence_length"
   ]
  },
  {
   "cell_type": "code",
   "execution_count": null,
   "id": "0caf8d16-3dbd-4c44-9d1d-1f9d452fd284",
   "metadata": {},
   "outputs": [],
   "source": [
    "data_module.prepare_data()"
   ]
  },
  {
   "cell_type": "code",
   "execution_count": null,
   "id": "2c6056fa-d373-4e79-b17d-167d6c9dba2e",
   "metadata": {},
   "outputs": [],
   "source": [
    "data_module.setup(stage='fit')"
   ]
  },
  {
   "cell_type": "code",
   "execution_count": null,
   "id": "c6d3ae00-6462-49ac-b699-df149c7934ce",
   "metadata": {},
   "outputs": [],
   "source": [
    "train_loader = data_module.train_dataloader()\n",
    "train_loader"
   ]
  },
  {
   "cell_type": "code",
   "execution_count": null,
   "id": "fb2aecf3-1ccc-486a-8970-b198312c6fba",
   "metadata": {},
   "outputs": [],
   "source": [
    "x, y = next(iter(train_loader))\n",
    "x.shape, y.shape"
   ]
  },
  {
   "cell_type": "code",
   "execution_count": null,
   "id": "6ea1fc6b-b10a-4c3c-b759-6193a4eb7bf5",
   "metadata": {},
   "outputs": [],
   "source": [
    "val_loader = data_module.val_dataloader()\n",
    "val_loader"
   ]
  },
  {
   "cell_type": "code",
   "execution_count": null,
   "id": "3a19acc7-0b74-4de1-bedc-65e4955964ce",
   "metadata": {},
   "outputs": [],
   "source": [
    "x, y = next(iter(val_loader))\n",
    "x.shape, y.shape"
   ]
  }
 ],
 "metadata": {
  "kernelspec": {
   "display_name": "Python 3 (ipykernel)",
   "language": "python",
   "name": "python3"
  },
  "language_info": {
   "codemirror_mode": {
    "name": "ipython",
    "version": 3
   },
   "file_extension": ".py",
   "mimetype": "text/x-python",
   "name": "python",
   "nbconvert_exporter": "python",
   "pygments_lexer": "ipython3",
   "version": "3.9.13"
  }
 },
 "nbformat": 4,
 "nbformat_minor": 5
}
