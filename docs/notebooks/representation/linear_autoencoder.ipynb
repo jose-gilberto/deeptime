{
 "cells": [
  {
   "cell_type": "code",
   "execution_count": 1,
   "id": "d200cf49-97f0-44a8-835a-ea1fb8279844",
   "metadata": {},
   "outputs": [
    {
     "name": "stderr",
     "output_type": "stream",
     "text": [
      "C:\\Users\\medei\\AppData\\Local\\Programs\\Python\\Python39\\lib\\site-packages\\tqdm\\auto.py:22: TqdmWarning: IProgress not found. Please update jupyter and ipywidgets. See https://ipywidgets.readthedocs.io/en/stable/user_install.html\n",
      "  from .autonotebook import tqdm as notebook_tqdm\n"
     ]
    }
   ],
   "source": [
    "import numpy as np\n",
    "from tqdm.auto import tqdm\n",
    "\n",
    "import torch\n",
    "import pytorch_lightning as pl\n",
    "\n",
    "from pytorch_lightning.callbacks.early_stopping import EarlyStopping\n",
    "from pytorch_lightning.callbacks import RichProgressBar\n",
    "from pytorch_lightning.callbacks.progress.rich_progress import RichProgressBarTheme\n",
    "\n",
    "from torch import nn\n",
    "from torch import optim\n",
    "from torch.utils.data import DataLoader, Subset\n",
    "\n",
    "from deeptime.data.datamodules import UcrDataModule\n",
    "from deeptime.models.representation import LinearAutoEncoder"
   ]
  },
  {
   "cell_type": "code",
   "execution_count": 2,
   "id": "77b0e7a6-53c2-4299-af0d-4aa34ba04eb2",
   "metadata": {},
   "outputs": [],
   "source": [
    "progress_bar = RichProgressBar(\n",
    "    theme=RichProgressBarTheme(\n",
    "        description=\"green_yellow\",\n",
    "        progress_bar=\"green1\",\n",
    "        progress_bar_finished=\"green1\",\n",
    "        progress_bar_pulse=\"#6206E0\",\n",
    "        batch_progress=\"green_yellow\",\n",
    "        time=\"grey82\",\n",
    "        processing_speed=\"grey82\",\n",
    "        metrics=\"grey82\",\n",
    "    )\n",
    ")"
   ]
  },
  {
   "cell_type": "code",
   "execution_count": 3,
   "id": "cb9b83e1-e923-40c9-9663-d7fae930aa87",
   "metadata": {},
   "outputs": [],
   "source": [
    "DATASETS = [\n",
    "    'Yoga',\n",
    "    'WormsTwoClass',\n",
    "    'Wine',\n",
    "    'Wafer',\n",
    "    'TwoLeadECG',\n",
    "    'Strawberry',\n",
    "    'SemgHandGenderCh2', \n",
    "    'BeetleFly',\n",
    "    'BirdChicken',\n",
    "    'Computers',\n",
    "    'DistalPhalanxOutlineCorrect',\n",
    "    'Earthquakes',\n",
    "    'ECG200',\n",
    "    'ECGFiveDays',\n",
    "    'FordA',\n",
    "    'FordB',\n",
    "    'HandOutlines',\n",
    "    'ItalyPowerDemand', \n",
    "    'MiddlePhalanxOutlineCorrect',\n",
    "    'Chinatown',\n",
    "    'FreezerRegularTrain',\n",
    "    'FreezerSmallTrain',\n",
    "    'GunPointAgeSpan',\n",
    "    'GunPointMaleVersusFemale',\n",
    "    'GunPointOldVersusYoung',\n",
    "    'PowerCons',\n",
    "    'Coffee',\n",
    "    'Ham',\n",
    "    'Herring',\n",
    "    'Lightning2',\n",
    "    'MoteStrain',\n",
    "    'PhalangesOutlinesCorrect',\n",
    "    'ProximalPhalanxOutlineCorrect',\n",
    "    'ShapeletSim',\n",
    "    'SonyAIBORobotSurface1',\n",
    "    'SonyAIBORobotSurface2',\n",
    "    'ToeSegmentation1',\n",
    "    'ToeSegmentation2',\n",
    "    'HouseTwenty'\n",
    "]"
   ]
  },
  {
   "cell_type": "code",
   "execution_count": 4,
   "id": "cc6e8071-7f0c-4fae-b082-15f878ada078",
   "metadata": {},
   "outputs": [
    {
     "name": "stderr",
     "output_type": "stream",
     "text": [
      "GPU available: True (cuda), used: True\n",
      "TPU available: False, using: 0 TPU cores\n",
      "IPU available: False, using: 0 IPUs\n",
      "HPU available: False, using: 0 HPUs\n"
     ]
    },
    {
     "name": "stdout",
     "output_type": "stream",
     "text": [
      "Starting the experiments with 39 datasets from UCR...\n"
     ]
    },
    {
     "name": "stderr",
     "output_type": "stream",
     "text": [
      "LOCAL_RANK: 0 - CUDA_VISIBLE_DEVICES: [0]\n",
      "\n",
      "  | Name | Type       | Params\n",
      "------------------------------------\n",
      "0 | e    | Sequential | 479 K \n",
      "1 | d    | Sequential | 479 K \n",
      "------------------------------------\n",
      "958 K     Trainable params\n",
      "0         Non-trainable params\n",
      "958 K     Total params\n",
      "3.832     Total estimated model params size (MB)\n"
     ]
    },
    {
     "name": "stdout",
     "output_type": "stream",
     "text": [
      "Sanity Checking DataLoader 0:   0%|                                                              | 0/2 [00:00<?, ?it/s]"
     ]
    },
    {
     "name": "stderr",
     "output_type": "stream",
     "text": [
      "C:\\Users\\medei\\AppData\\Local\\Programs\\Python\\Python39\\lib\\site-packages\\pytorch_lightning\\trainer\\connectors\\data_connector.py:224: PossibleUserWarning: The dataloader, val_dataloader 0, does not have many workers which may be a bottleneck. Consider increasing the value of the `num_workers` argument` (try 12 which is the number of cpus on this machine) in the `DataLoader` init to improve performance.\n",
      "  rank_zero_warn(\n"
     ]
    },
    {
     "name": "stdout",
     "output_type": "stream",
     "text": [
      "                                                                                                                       "
     ]
    },
    {
     "name": "stderr",
     "output_type": "stream",
     "text": [
      "C:\\Users\\medei\\AppData\\Local\\Programs\\Python\\Python39\\lib\\site-packages\\pytorch_lightning\\trainer\\connectors\\data_connector.py:224: PossibleUserWarning: The dataloader, train_dataloader, does not have many workers which may be a bottleneck. Consider increasing the value of the `num_workers` argument` (try 12 which is the number of cpus on this machine) in the `DataLoader` init to improve performance.\n",
      "  rank_zero_warn(\n",
      "C:\\Users\\medei\\AppData\\Local\\Programs\\Python\\Python39\\lib\\site-packages\\pytorch_lightning\\trainer\\trainer.py:1595: PossibleUserWarning: The number of training batches (8) is smaller than the logging interval Trainer(log_every_n_steps=50). Set a lower value for log_every_n_steps if you want to see logs for the training epoch.\n",
      "  rank_zero_warn(\n"
     ]
    },
    {
     "name": "stdout",
     "output_type": "stream",
     "text": [
      "Epoch 0:  80%|████████████████████████████▊       | 8/10 [00:00<00:00, 90.92it/s, loss=0.8, v_num=19, train_loss=0.564]\n",
      "Validation: 0it [00:00, ?it/s]\u001b[A\n",
      "Validation:   0%|                                                                                | 0/2 [00:00<?, ?it/s]\u001b[A\n",
      "Validation DataLoader 0:   0%|                                                                   | 0/2 [00:00<?, ?it/s]\u001b[A\n",
      "Epoch 0:  90%|████████████████████████████████▍   | 9/10 [00:00<00:00, 86.53it/s, loss=0.8, v_num=19, train_loss=0.564]\u001b[A\n",
      "Epoch 0: 100%|███████████████████| 10/10 [00:00<00:00, 81.30it/s, loss=0.8, v_num=19, train_loss=0.564, val_loss=0.511]\u001b[A\n",
      "Epoch 1:  80%|██████████████▍   | 8/10 [00:00<00:00, 74.07it/s, loss=0.596, v_num=19, train_loss=0.295, val_loss=0.511]\u001b[A\n",
      "Validation: 0it [00:00, ?it/s]\u001b[A\n",
      "Validation:   0%|                                                                                | 0/2 [00:00<?, ?it/s]\u001b[A\n",
      "Validation DataLoader 0:   0%|                                                                   | 0/2 [00:00<?, ?it/s]\u001b[A\n",
      "Epoch 1:  90%|████████████████▏ | 9/10 [00:00<00:00, 72.58it/s, loss=0.596, v_num=19, train_loss=0.295, val_loss=0.511]\u001b[A\n",
      "Epoch 1: 100%|█████████████████| 10/10 [00:00<00:00, 73.53it/s, loss=0.596, v_num=19, train_loss=0.295, val_loss=0.275]\u001b[A\n",
      "Epoch 2:  80%|██████████████▍   | 8/10 [00:00<00:00, 99.99it/s, loss=0.395, v_num=19, train_loss=0.226, val_loss=0.275]\u001b[A\n",
      "Validation: 0it [00:00, ?it/s]\u001b[A\n",
      "Validation:   0%|                                                                                | 0/2 [00:00<?, ?it/s]\u001b[A\n",
      "Validation DataLoader 0:   0%|                                                                   | 0/2 [00:00<?, ?it/s]\u001b[A\n",
      "Epoch 2:  90%|████████████████▏ | 9/10 [00:00<00:00, 95.73it/s, loss=0.395, v_num=19, train_loss=0.226, val_loss=0.275]\u001b[A\n",
      "Epoch 2: 100%|█████████████████| 10/10 [00:00<00:00, 95.23it/s, loss=0.395, v_num=19, train_loss=0.226, val_loss=0.219]\u001b[A\n",
      "Epoch 3:  80%|██████████████▍   | 8/10 [00:00<00:00, 90.92it/s, loss=0.263, v_num=19, train_loss=0.233, val_loss=0.219]\u001b[A\n",
      "Validation: 0it [00:00, ?it/s]\u001b[A\n",
      "Validation:   0%|                                                                                | 0/2 [00:00<?, ?it/s]\u001b[A\n",
      "Validation DataLoader 0:   0%|                                                                   | 0/2 [00:00<?, ?it/s]\u001b[A\n",
      "Epoch 3:  90%|████████████████▏ | 9/10 [00:00<00:00, 88.25it/s, loss=0.263, v_num=19, train_loss=0.233, val_loss=0.219]\u001b[A\n",
      "Epoch 3: 100%|█████████████████| 10/10 [00:00<00:00, 90.10it/s, loss=0.263, v_num=19, train_loss=0.233, val_loss=0.199]\u001b[A\n",
      "Epoch 4:  80%|██████████████▍   | 8/10 [00:00<00:00, 76.20it/s, loss=0.223, v_num=19, train_loss=0.185, val_loss=0.199]\u001b[A\n",
      "Validation: 0it [00:00, ?it/s]\u001b[A\n",
      "Validation:   0%|                                                                                | 0/2 [00:00<?, ?it/s]\u001b[A\n",
      "Validation DataLoader 0:   0%|                                                                   | 0/2 [00:00<?, ?it/s]\u001b[A\n",
      "Epoch 4:  90%|████████████████▏ | 9/10 [00:00<00:00, 72.58it/s, loss=0.223, v_num=19, train_loss=0.185, val_loss=0.199]\u001b[A\n",
      "Epoch 4: 100%|█████████████████| 10/10 [00:00<00:00, 73.53it/s, loss=0.223, v_num=19, train_loss=0.185, val_loss=0.177]\u001b[A\n",
      "Epoch 5:  80%|██████████████▍   | 8/10 [00:00<00:00, 77.82it/s, loss=0.197, v_num=19, train_loss=0.145, val_loss=0.177]\u001b[A\n",
      "Validation: 0it [00:00, ?it/s]\u001b[A\n",
      "Validation:   0%|                                                                                | 0/2 [00:00<?, ?it/s]\u001b[A\n",
      "Validation DataLoader 0:   0%|                                                                   | 0/2 [00:00<?, ?it/s]\u001b[A\n",
      "Epoch 5:  90%|████████████████▏ | 9/10 [00:00<00:00, 74.50it/s, loss=0.197, v_num=19, train_loss=0.145, val_loss=0.177]\u001b[A\n",
      "Epoch 5: 100%|█████████████████| 10/10 [00:00<00:00, 76.45it/s, loss=0.197, v_num=19, train_loss=0.145, val_loss=0.148]\u001b[A\n",
      "Epoch 6:  80%|███████████████▏   | 8/10 [00:00<00:00, 85.11it/s, loss=0.17, v_num=19, train_loss=0.123, val_loss=0.148]\u001b[A\n",
      "Validation: 0it [00:00, ?it/s]\u001b[A\n",
      "Validation:   0%|                                                                                | 0/2 [00:00<?, ?it/s]\u001b[A\n",
      "Validation DataLoader 0:   0%|                                                                   | 0/2 [00:00<?, ?it/s]\u001b[A\n",
      "Epoch 6:  90%|█████████████████  | 9/10 [00:00<00:00, 81.08it/s, loss=0.17, v_num=19, train_loss=0.123, val_loss=0.148]\u001b[A\n",
      "Epoch 6: 100%|██████████████████| 10/10 [00:00<00:00, 83.33it/s, loss=0.17, v_num=19, train_loss=0.123, val_loss=0.127]\u001b[A\n",
      "Epoch 7:  80%|██████████████▍   | 8/10 [00:00<00:00, 60.15it/s, loss=0.148, v_num=19, train_loss=0.120, val_loss=0.127]\u001b[A\n",
      "Validation: 0it [00:00, ?it/s]\u001b[A\n",
      "Validation:   0%|                                                                                | 0/2 [00:00<?, ?it/s]\u001b[A\n",
      "Validation DataLoader 0:   0%|                                                                   | 0/2 [00:00<?, ?it/s]\u001b[A\n",
      "Epoch 7:  90%|████████████████▏ | 9/10 [00:00<00:00, 58.43it/s, loss=0.148, v_num=19, train_loss=0.120, val_loss=0.127]\u001b[A\n",
      "Epoch 7: 100%|█████████████████| 10/10 [00:00<00:00, 61.35it/s, loss=0.148, v_num=19, train_loss=0.120, val_loss=0.129]\u001b[A\n",
      "Epoch 8:  80%|██████████████▍   | 8/10 [00:00<00:00, 76.92it/s, loss=0.136, v_num=19, train_loss=0.100, val_loss=0.129]\u001b[A\n",
      "Validation: 0it [00:00, ?it/s]\u001b[A\n",
      "Validation:   0%|                                                                                | 0/2 [00:00<?, ?it/s]\u001b[A\n",
      "Validation DataLoader 0:   0%|                                                                   | 0/2 [00:00<?, ?it/s]\u001b[A\n",
      "Epoch 8:  90%|████████████████▏ | 9/10 [00:00<00:00, 76.92it/s, loss=0.136, v_num=19, train_loss=0.100, val_loss=0.129]\u001b[A\n",
      "Epoch 8: 100%|█████████████████| 10/10 [00:00<00:00, 77.52it/s, loss=0.136, v_num=19, train_loss=0.100, val_loss=0.105]\u001b[A\n",
      "Epoch 9:  80%|████████████▊   | 8/10 [00:00<00:00, 100.00it/s, loss=0.128, v_num=19, train_loss=0.0917, val_loss=0.105]\u001b[A\n",
      "Validation: 0it [00:00, ?it/s]\u001b[A\n",
      "Validation:   0%|                                                                                | 0/2 [00:00<?, ?it/s]\u001b[A\n",
      "Validation DataLoader 0:   0%|                                                                   | 0/2 [00:00<?, ?it/s]\u001b[A\n",
      "Epoch 9:  90%|███████████████▎ | 9/10 [00:00<00:00, 96.77it/s, loss=0.128, v_num=19, train_loss=0.0917, val_loss=0.105]\u001b[A\n",
      "Epoch 9: 100%|███████████████| 10/10 [00:00<00:00, 98.03it/s, loss=0.128, v_num=19, train_loss=0.0917, val_loss=0.0976]\u001b[A\n",
      "Epoch 9: 100%|███████████████| 10/10 [00:00<00:00, 93.46it/s, loss=0.128, v_num=19, train_loss=0.0917, val_loss=0.0976]\u001b[A"
     ]
    },
    {
     "name": "stderr",
     "output_type": "stream",
     "text": [
      "`Trainer.fit` stopped: `max_epochs=10` reached.\n"
     ]
    },
    {
     "name": "stdout",
     "output_type": "stream",
     "text": [
      "Epoch 9: 100%|███████████████| 10/10 [00:00<00:00, 64.52it/s, loss=0.128, v_num=19, train_loss=0.0917, val_loss=0.0976]\n"
     ]
    }
   ],
   "source": [
    "print(f'Starting the experiments with {len(DATASETS)} datasets from UCR...')\n",
    "\n",
    "for dataset in DATASETS:\n",
    "    data_dir = 'C:\\\\Users\\\\medei\\\\Desktop\\\\Gilberto\\\\Projetos\\\\deeptime\\\\docs\\\\datasets'\n",
    "    data_module = UcrDataModule(dataset_name=dataset, data_dir=data_dir)\n",
    "    linear_autoencoder = LinearAutoEncoder(input_dim=data_module.sequence_length, latent_dim=32)\n",
    "\n",
    "    trainer = pl.Trainer(\n",
    "        max_epochs=10,\n",
    "        accelerator='gpu',\n",
    "        devices=-1,\n",
    "        callbacks=[EarlyStopping(monitor='val_loss', mode='min', patience=10, min_delta=0.01)]\n",
    "    )\n",
    "\n",
    "    trainer.fit(model=linear_autoencoder, datamodule=data_module)\n",
    "    break"
   ]
  },
  {
   "cell_type": "code",
   "execution_count": 22,
   "id": "85927237",
   "metadata": {},
   "outputs": [
    {
     "data": {
      "text/plain": [
       "<All keys matched successfully>"
      ]
     },
     "execution_count": 22,
     "metadata": {},
     "output_type": "execute_result"
    }
   ],
   "source": [
    "import matplotlib.pyplot as plt\n",
    "\n",
    "linear_autoencoder = LinearAutoEncoder(input_dim=426, latent_dim=32)\n",
    "linear_autoencoder.load_state_dict(torch.load('../../../pretrain/representation/Yoga/linear_autoencoder.pt'))"
   ]
  },
  {
   "cell_type": "code",
   "execution_count": 23,
   "id": "8678bf6e-db97-48dc-bd2b-c28d2d7cef42",
   "metadata": {},
   "outputs": [],
   "source": [
    "data_module = UcrDataModule(dataset_name='Yoga', data_dir='./')\n",
    "\n",
    "data_module.prepare_data()\n",
    "data_module.setup(stage='fit')"
   ]
  },
  {
   "cell_type": "code",
   "execution_count": 24,
   "id": "62717e12-07a5-4f87-9abb-df9e7249ae14",
   "metadata": {},
   "outputs": [
    {
     "data": {
      "text/plain": [
       "[<matplotlib.lines.Line2D at 0x1f659aea520>]"
      ]
     },
     "execution_count": 24,
     "metadata": {},
     "output_type": "execute_result"
    },
    {
     "data": {
      "image/png": "[encoded data removed]",
      "text/plain": [
       "<Figure size 640x480 with 1 Axes>"
      ]
     },
     "metadata": {},
     "output_type": "display_data"
    }
   ],
   "source": [
    "sample = data_module.train_dataset[:1][0]\n",
    "sample_list = sample.reshape((1, 426)).tolist()\n",
    "\n",
    "sample_pred = linear_autoencoder(sample)\n",
    "\n",
    "plt.plot(list(range(426)), sample_list[0])\n",
    "plt.plot(list(range(426)), sample_pred[0].reshape((1, 426)).tolist()[0], color='red')"
   ]
  },
  {
   "cell_type": "code",
   "execution_count": null,
   "id": "85c915ae-5f2c-4742-9855-6de72d9647a1",
   "metadata": {},
   "outputs": [],
   "source": []
  }
 ],
 "metadata": {
  "kernelspec": {
   "display_name": "Python 3 (ipykernel)",
   "language": "python",
   "name": "python3"
  },
  "language_info": {
   "codemirror_mode": {
    "name": "ipython",
    "version": 3
   },
   "file_extension": ".py",
   "mimetype": "text/x-python",
   "name": "python",
   "nbconvert_exporter": "python",
   "pygments_lexer": "ipython3",
   "version": "3.9.13 (tags/v3.9.13:6de2ca5, May 17 2022, 16:36:42) [MSC v.1929 64 bit (AMD64)]"
  },
  "vscode": {
   "interpreter": {
    "hash": "97025ed64de6df6945476af4b04247a85c116b7d870705b111b17853dcfe747a"
   }
  }
 },
 "nbformat": 4,
 "nbformat_minor": 5
}
