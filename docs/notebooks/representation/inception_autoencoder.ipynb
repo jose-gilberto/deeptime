{
 "cells": [
  {
   "cell_type": "code",
   "execution_count": 1,
   "id": "fa7de1bb-4488-4946-a0d2-7321a3e91678",
   "metadata": {},
   "outputs": [
    {
     "name": "stderr",
     "output_type": "stream",
     "text": [
      "C:\\Users\\medei\\AppData\\Local\\Programs\\Python\\Python39\\lib\\site-packages\\tqdm\\auto.py:22: TqdmWarning: IProgress not found. Please update jupyter and ipywidgets. See https://ipywidgets.readthedocs.io/en/stable/user_install.html\n",
      "  from .autonotebook import tqdm as notebook_tqdm\n"
     ]
    }
   ],
   "source": [
    "import numpy as np\n",
    "\n",
    "import torch\n",
    "import pytorch_lightning as pl\n",
    "from pytorch_lightning.callbacks.early_stopping import EarlyStopping\n",
    "\n",
    "\n",
    "from torch import nn\n",
    "from torch import optim\n",
    "from torch.utils.data import DataLoader, Subset\n",
    "\n",
    "from deeptime.data import BaseDataset, UCRDataset\n",
    "from deeptime.models.representation.inception import InceptionAutoEncoder"
   ]
  },
  {
   "cell_type": "code",
   "execution_count": 2,
   "id": "b79bd17a-59c3-4471-8f82-d556410e5dd4",
   "metadata": {},
   "outputs": [
    {
     "data": {
      "text/plain": [
       "3601"
      ]
     },
     "execution_count": 2,
     "metadata": {},
     "output_type": "execute_result"
    }
   ],
   "source": [
    "train_dataset = UCRDataset(name='FordA', split='train')\n",
    "len(train_dataset)"
   ]
  },
  {
   "cell_type": "code",
   "execution_count": 3,
   "id": "632d4e32-3218-4756-ab62-f84c59174e2b",
   "metadata": {},
   "outputs": [
    {
     "data": {
      "text/plain": [
       "1320"
      ]
     },
     "execution_count": 3,
     "metadata": {},
     "output_type": "execute_result"
    }
   ],
   "source": [
    "test_dataset = UCRDataset(name='FordA', split='test')\n",
    "len(test_dataset)"
   ]
  },
  {
   "cell_type": "code",
   "execution_count": 4,
   "id": "612ef122-a557-4ed1-93e3-d9cced1876af",
   "metadata": {},
   "outputs": [
    {
     "data": {
      "text/plain": [
       "tensor([-1.,  1.])"
      ]
     },
     "execution_count": 4,
     "metadata": {},
     "output_type": "execute_result"
    }
   ],
   "source": [
    "unique_labels = torch.unique(train_dataset[:][1])\n",
    "unique_labels"
   ]
  },
  {
   "cell_type": "code",
   "execution_count": 5,
   "id": "54db7203-1537-4677-9eeb-5f737d6a85c6",
   "metadata": {},
   "outputs": [
    {
     "name": "stderr",
     "output_type": "stream",
     "text": [
      "GPU available: True (cuda), used: True\n",
      "TPU available: False, using: 0 TPU cores\n",
      "IPU available: False, using: 0 IPUs\n",
      "HPU available: False, using: 0 HPUs\n",
      "LOCAL_RANK: 0 - CUDA_VISIBLE_DEVICES: [0]\n",
      "\n",
      "  | Name     | Type       | Params\n",
      "----------------------------------------\n",
      "0 | e_blocks | Sequential | 2.0 M \n",
      "1 | e_head   | Sequential | 16.4 M\n",
      "2 | d_blocks | Sequential | 1.3 M \n",
      "3 | d_head   | Sequential | 16.4 M\n",
      "----------------------------------------\n",
      "36.2 M    Trainable params\n",
      "0         Non-trainable params\n",
      "36.2 M    Total params\n",
      "144.782   Total estimated model params size (MB)\n",
      "C:\\Users\\medei\\AppData\\Local\\Programs\\Python\\Python39\\lib\\site-packages\\pytorch_lightning\\trainer\\connectors\\data_connector.py:224: PossibleUserWarning: The dataloader, train_dataloader, does not have many workers which may be a bottleneck. Consider increasing the value of the `num_workers` argument` (try 12 which is the number of cpus on this machine) in the `DataLoader` init to improve performance.\n",
      "  rank_zero_warn(\n"
     ]
    },
    {
     "name": "stdout",
     "output_type": "stream",
     "text": [
      "Epoch 48: 100%|███████████████████████████████████████████████| 116/116 [00:11<00:00,  9.99it/s, loss=0.0692, v_num=12]\n"
     ]
    }
   ],
   "source": [
    "for label in unique_labels:\n",
    "    x_train, y_train = train_dataset[label == train_dataset[:][1]]\n",
    "\n",
    "    filtered_dataset = BaseDataset(\n",
    "        x=np.array(x_train.tolist()),\n",
    "        y=np.array(y_train.tolist())\n",
    "    )\n",
    "\n",
    "    train_loader = DataLoader(filtered_dataset, batch_size=16)\n",
    "\n",
    "    autoencoder = InceptionAutoEncoder(\n",
    "        num_blocks=3,\n",
    "        in_features=500,\n",
    "        in_channels=1,\n",
    "        out_channels=128,\n",
    "        bottleneck_channels=32,\n",
    "        kernel_sizes=41,\n",
    "    )\n",
    "    trainer = pl.Trainer(\n",
    "        max_epochs=500,\n",
    "        accelerator='gpu',\n",
    "        devices=-1,\n",
    "        callbacks=[EarlyStopping(monitor='train_loss', mode='min', patience=10, min_delta=0.01)]\n",
    "    )\n",
    "    trainer.fit(model=autoencoder, train_dataloaders=train_loader)\n",
    "    break"
   ]
  },
  {
   "cell_type": "code",
   "execution_count": 1,
   "id": "c2a06b0d-41ab-4f47-9a33-2de1efc62698",
   "metadata": {},
   "outputs": [
    {
     "ename": "NameError",
     "evalue": "name 'autoencoder' is not defined",
     "output_type": "error",
     "traceback": [
      "\u001b[1;31m---------------------------------------------------------------------------\u001b[0m",
      "\u001b[1;31mNameError\u001b[0m                                 Traceback (most recent call last)",
      "Cell \u001b[1;32mIn[1], line 3\u001b[0m\n\u001b[0;32m      1\u001b[0m \u001b[38;5;28;01mimport\u001b[39;00m \u001b[38;5;21;01mmatplotlib\u001b[39;00m\u001b[38;5;21;01m.\u001b[39;00m\u001b[38;5;21;01mpyplot\u001b[39;00m \u001b[38;5;28;01mas\u001b[39;00m \u001b[38;5;21;01mplt\u001b[39;00m\n\u001b[1;32m----> 3\u001b[0m x_hat, z \u001b[38;5;241m=\u001b[39m \u001b[43mautoencoder\u001b[49m(train_dataset[:\u001b[38;5;241m1\u001b[39m][\u001b[38;5;241m0\u001b[39m])\n\u001b[0;32m      5\u001b[0m plt\u001b[38;5;241m.\u001b[39mplot(\u001b[38;5;28mlist\u001b[39m(\u001b[38;5;28mrange\u001b[39m(\u001b[38;5;241m500\u001b[39m)), train_dataset[\u001b[38;5;241m0\u001b[39m][\u001b[38;5;241m0\u001b[39m]\u001b[38;5;241m.\u001b[39mview(\u001b[38;5;241m-\u001b[39m\u001b[38;5;241m1\u001b[39m)\u001b[38;5;241m.\u001b[39mtolist())\n\u001b[0;32m      6\u001b[0m plt\u001b[38;5;241m.\u001b[39mplot(\u001b[38;5;28mlist\u001b[39m(\u001b[38;5;28mrange\u001b[39m(\u001b[38;5;241m500\u001b[39m)), x_hat\u001b[38;5;241m.\u001b[39mview(\u001b[38;5;241m-\u001b[39m\u001b[38;5;241m1\u001b[39m)\u001b[38;5;241m.\u001b[39mtolist(), color\u001b[38;5;241m=\u001b[39m\u001b[38;5;124m'\u001b[39m\u001b[38;5;124mred\u001b[39m\u001b[38;5;124m'\u001b[39m)\n",
      "\u001b[1;31mNameError\u001b[0m: name 'autoencoder' is not defined"
     ]
    }
   ],
   "source": [
    "import matplotlib.pyplot as plt\n",
    "\n",
    "x_hat, z = autoencoder(train_dataset[:1][0])\n",
    "\n",
    "plt.plot(list(range(500)), train_dataset[0][0].view(-1).tolist())\n",
    "plt.plot(list(range(500)), x_hat.view(-1).tolist(), color='red')"
   ]
  }
 ],
 "metadata": {
  "kernelspec": {
   "display_name": "Python 3 (ipykernel)",
   "language": "python",
   "name": "python3"
  },
  "language_info": {
   "codemirror_mode": {
    "name": "ipython",
    "version": 3
   },
   "file_extension": ".py",
   "mimetype": "text/x-python",
   "name": "python",
   "nbconvert_exporter": "python",
   "pygments_lexer": "ipython3",
   "version": "3.9.13"
  }
 },
 "nbformat": 4,
 "nbformat_minor": 5
}
