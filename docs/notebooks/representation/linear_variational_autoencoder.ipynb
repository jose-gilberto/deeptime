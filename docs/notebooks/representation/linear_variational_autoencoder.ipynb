{
 "cells": [
  {
   "cell_type": "code",
   "execution_count": 2,
   "id": "87b3f1d1-c4d2-420b-a95b-60b64ea5fb81",
   "metadata": {},
   "outputs": [],
   "source": [
    "import numpy as np\n",
    "from tqdm.auto import tqdm\n",
    "\n",
    "import torch\n",
    "import pytorch_lightning as pl\n",
    "\n",
    "from pytorch_lightning.callbacks.early_stopping import EarlyStopping\n",
    "from pytorch_lightning.callbacks import RichProgressBar\n",
    "from pytorch_lightning.callbacks.progress.rich_progress import RichProgressBarTheme\n",
    "\n",
    "from torch import nn\n",
    "from torch import optim\n",
    "from torch.utils.data import DataLoader, Subset\n",
    "\n",
    "from deeptime.data.datamodules import UcrDataModule\n",
    "from deeptime.models.representation import LinearVariationalAutoEncoder"
   ]
  },
  {
   "cell_type": "code",
   "execution_count": 8,
   "id": "8653533f-9eec-4f86-a868-8563f35dbe48",
   "metadata": {},
   "outputs": [
    {
     "data": {
      "text/plain": [
       "3601"
      ]
     },
     "execution_count": 8,
     "metadata": {},
     "output_type": "execute_result"
    }
   ],
   "source": [
    "train_dataset = UCRDataset(name='FordA', split='train')\n",
    "len(train_dataset)"
   ]
  },
  {
   "cell_type": "code",
   "execution_count": 9,
   "id": "0b7f62f9-b6a8-4127-bcac-36be27e844a7",
   "metadata": {},
   "outputs": [
    {
     "data": {
      "text/plain": [
       "1320"
      ]
     },
     "execution_count": 9,
     "metadata": {},
     "output_type": "execute_result"
    }
   ],
   "source": [
    "test_dataset = UCRDataset(name='FordA', split='test')\n",
    "len(test_dataset)"
   ]
  },
  {
   "cell_type": "code",
   "execution_count": 10,
   "id": "65d7c85c-9e52-4f80-94b5-05e3ab1587fc",
   "metadata": {},
   "outputs": [
    {
     "data": {
      "text/plain": [
       "tensor([-1.,  1.])"
      ]
     },
     "execution_count": 10,
     "metadata": {},
     "output_type": "execute_result"
    }
   ],
   "source": [
    "unique_labels = torch.unique(train_dataset[:][1])\n",
    "unique_labels"
   ]
  },
  {
   "cell_type": "code",
   "execution_count": 11,
   "id": "5a35c90e-4a4b-4721-8a24-37fdebd4f07f",
   "metadata": {},
   "outputs": [
    {
     "name": "stderr",
     "output_type": "stream",
     "text": [
      "GPU available: True (cuda), used: True\n",
      "TPU available: False, using: 0 TPU cores\n",
      "IPU available: False, using: 0 IPUs\n",
      "HPU available: False, using: 0 HPUs\n",
      "C:\\Users\\medei\\AppData\\Local\\Programs\\Python\\Python39\\lib\\site-packages\\pytorch_lightning\\trainer\\configuration_validator.py:108: PossibleUserWarning: You defined a `validation_step` but have no `val_dataloader`. Skipping val loop.\n",
      "  rank_zero_warn(\n",
      "LOCAL_RANK: 0 - CUDA_VISIBLE_DEVICES: [0]\n",
      "\n",
      "  | Name | Type       | Params\n",
      "------------------------------------\n",
      "0 | e    | Sequential | 404 K \n",
      "1 | d    | Sequential | 396 K \n",
      "------------------------------------\n",
      "800 K     Trainable params\n",
      "0         Non-trainable params\n",
      "800 K     Total params\n",
      "3.203     Total estimated model params size (MB)\n",
      "C:\\Users\\medei\\AppData\\Local\\Programs\\Python\\Python39\\lib\\site-packages\\pytorch_lightning\\trainer\\connectors\\data_connector.py:224: PossibleUserWarning: The dataloader, train_dataloader, does not have many workers which may be a bottleneck. Consider increasing the value of the `num_workers` argument` (try 12 which is the number of cpus on this machine) in the `DataLoader` init to improve performance.\n",
      "  rank_zero_warn(\n"
     ]
    },
    {
     "name": "stdout",
     "output_type": "stream",
     "text": [
      "Epoch 0:   9%|████                                           | 10/116 [00:00<00:01, 65.78it/s, loss=8.02e+03, v_num=20]"
     ]
    },
    {
     "name": "stderr",
     "output_type": "stream",
     "text": [
      "C:\\Users\\medei\\AppData\\Local\\Programs\\Python\\Python39\\lib\\site-packages\\torch\\nn\\_reduction.py:42: UserWarning: size_average and reduce args will be deprecated, please use reduction='sum' instead.\n",
      "  warnings.warn(warning.format(ret))\n"
     ]
    },
    {
     "name": "stdout",
     "output_type": "stream",
     "text": [
      "Epoch 999: 100%|█████████████████████████████████████████████████| 116/116 [00:02<00:00, 49.96it/s, loss=466, v_num=20]"
     ]
    },
    {
     "name": "stderr",
     "output_type": "stream",
     "text": [
      "`Trainer.fit` stopped: `max_epochs=1000` reached.\n"
     ]
    },
    {
     "name": "stdout",
     "output_type": "stream",
     "text": [
      "Epoch 999: 100%|█████████████████████████████████████████████████| 116/116 [00:02<00:00, 48.80it/s, loss=466, v_num=20]\n"
     ]
    }
   ],
   "source": [
    "for label in unique_labels:\n",
    "    x_train, y_train = train_dataset[label == train_dataset[:][1]]\n",
    "\n",
    "    filtered_dataset = BaseDataset(\n",
    "        x=np.array(x_train.tolist()),\n",
    "        y=np.array(y_train.tolist())\n",
    "    )\n",
    "\n",
    "    train_loader = DataLoader(filtered_dataset, batch_size=16)\n",
    "\n",
    "    autoencoder = LinearVariationalAutoEncoder(input_dim=x_train.shape[-1], hidden_dim=128, latent_dim=32)\n",
    "    trainer = pl.Trainer(max_epochs=1000, accelerator='gpu', devices=-1)\n",
    "\n",
    "    trainer.fit(model=autoencoder, train_dataloaders=train_loader)\n",
    "    break"
   ]
  },
  {
   "cell_type": "code",
   "execution_count": 7,
   "id": "417f30d6-7275-4cd8-803f-50f94d9b89a9",
   "metadata": {},
   "outputs": [
    {
     "data": {
      "text/plain": [
       "<All keys matched successfully>"
      ]
     },
     "execution_count": 7,
     "metadata": {},
     "output_type": "execute_result"
    }
   ],
   "source": [
    "import matplotlib.pyplot as plt\n",
    "\n",
    "linear_variational_autoencoder = LinearVariationalAutoEncoder(input_dim=426, hidden_dim=128, latent_dim=32)\n",
    "linear_variational_autoencoder.load_state_dict(torch.load('../../../pretrain/representation/Yoga/linear_variational_autoencoder.pt'))"
   ]
  },
  {
   "cell_type": "code",
   "execution_count": 10,
   "id": "6bd40208-a4d7-4ae3-bee2-d7d918a63daf",
   "metadata": {},
   "outputs": [],
   "source": [
    "data_module = UcrDataModule(dataset_name='Yoga', data_dir='./')\n",
    "\n",
    "data_module.prepare_data()\n",
    "data_module.setup(stage='fit')"
   ]
  },
  {
   "cell_type": "code",
   "execution_count": 11,
   "id": "2eabe4ba-0216-4f6c-a527-c1f679b86199",
   "metadata": {},
   "outputs": [
    {
     "data": {
      "text/plain": [
       "[<matplotlib.lines.Line2D at 0x126da75fa00>]"
      ]
     },
     "execution_count": 11,
     "metadata": {},
     "output_type": "execute_result"
    },
    {
     "data": {
      "image/png": "[encoded data removed]",
      "text/plain": [
       "<Figure size 640x480 with 1 Axes>"
      ]
     },
     "metadata": {},
     "output_type": "display_data"
    }
   ],
   "source": [
    "sample = data_module.train_dataset[:1][0]\n",
    "sample_list = sample.reshape((1, 426)).tolist()\n",
    "\n",
    "sample_pred = linear_variational_autoencoder(sample)\n",
    "\n",
    "plt.plot(list(range(426)), sample_list[0])\n",
    "plt.plot(list(range(426)), sample_pred[0].reshape((1, 426)).tolist()[0], color='red')"
   ]
  }
 ],
 "metadata": {
  "kernelspec": {
   "display_name": "Python 3 (ipykernel)",
   "language": "python",
   "name": "python3"
  },
  "language_info": {
   "codemirror_mode": {
    "name": "ipython",
    "version": 3
   },
   "file_extension": ".py",
   "mimetype": "text/x-python",
   "name": "python",
   "nbconvert_exporter": "python",
   "pygments_lexer": "ipython3",
   "version": "3.9.13 (tags/v3.9.13:6de2ca5, May 17 2022, 16:36:42) [MSC v.1929 64 bit (AMD64)]"
  },
  "vscode": {
   "interpreter": {
    "hash": "97025ed64de6df6945476af4b04247a85c116b7d870705b111b17853dcfe747a"
   }
  }
 },
 "nbformat": 4,
 "nbformat_minor": 5
}
